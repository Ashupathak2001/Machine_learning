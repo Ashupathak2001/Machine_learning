{
  "nbformat": 4,
  "nbformat_minor": 0,
  "metadata": {
    "colab": {
      "provenance": [],
      "authorship_tag": "ABX9TyOCAKXxr9TKnbRf70XXvoyc",
      "include_colab_link": true
    },
    "kernelspec": {
      "name": "python3",
      "display_name": "Python 3"
    },
    "language_info": {
      "name": "python"
    }
  },
  "cells": [
    {
      "cell_type": "markdown",
      "metadata": {
        "id": "view-in-github",
        "colab_type": "text"
      },
      "source": [
        "<a href=\"https://colab.research.google.com/github/Ashupathak2001/Machine_learning/blob/main/logistic_regression.ipynb\" target=\"_parent\"><img src=\"https://colab.research.google.com/assets/colab-badge.svg\" alt=\"Open In Colab\"/></a>"
      ]
    },
    {
      "cell_type": "code",
      "execution_count": null,
      "metadata": {
        "id": "BNCFQ3p0pW9r"
      },
      "outputs": [],
      "source": [
        "import torch\n",
        "import torchvision\n",
        "from torchvision.datasets import MNIST\n",
        "import torchvision.transforms as transforms\n",
        "from torch.utils.data import random_split\n",
        "from torch.utils.data import DataLoader\n",
        "import torch.nn as nn\n",
        "import torch.nn.functional as F\n",
        "import matplotlib.pyplot as plt"
      ]
    },
    {
      "cell_type": "code",
      "source": [
        "# Prepare data\n",
        "# convert train & test image to tensors\n",
        "dataset=MNIST(root='data/',train=True,transform=transforms.ToTensor(),download=True)\n",
        "test_ds=MNIST(root='data/',train=True,transform=transforms.ToTensor())"
      ],
      "metadata": {
        "colab": {
          "base_uri": "https://localhost:8080/"
        },
        "id": "S-5JD9FOc97l",
        "outputId": "6c6fd171-c3c3-44ca-9439-f52db46d1fef"
      },
      "execution_count": null,
      "outputs": [
        {
          "output_type": "stream",
          "name": "stdout",
          "text": [
            "Downloading http://yann.lecun.com/exdb/mnist/train-images-idx3-ubyte.gz\n",
            "Downloading http://yann.lecun.com/exdb/mnist/train-images-idx3-ubyte.gz to data/MNIST/raw/train-images-idx3-ubyte.gz\n"
          ]
        },
        {
          "output_type": "stream",
          "name": "stderr",
          "text": [
            "100%|██████████| 9912422/9912422 [00:00<00:00, 131208298.86it/s]\n"
          ]
        },
        {
          "output_type": "stream",
          "name": "stdout",
          "text": [
            "Extracting data/MNIST/raw/train-images-idx3-ubyte.gz to data/MNIST/raw\n",
            "\n",
            "Downloading http://yann.lecun.com/exdb/mnist/train-labels-idx1-ubyte.gz\n",
            "Downloading http://yann.lecun.com/exdb/mnist/train-labels-idx1-ubyte.gz to data/MNIST/raw/train-labels-idx1-ubyte.gz\n"
          ]
        },
        {
          "output_type": "stream",
          "name": "stderr",
          "text": [
            "100%|██████████| 28881/28881 [00:00<00:00, 19124675.37it/s]\n"
          ]
        },
        {
          "output_type": "stream",
          "name": "stdout",
          "text": [
            "Extracting data/MNIST/raw/train-labels-idx1-ubyte.gz to data/MNIST/raw\n",
            "\n",
            "Downloading http://yann.lecun.com/exdb/mnist/t10k-images-idx3-ubyte.gz\n",
            "Downloading http://yann.lecun.com/exdb/mnist/t10k-images-idx3-ubyte.gz to data/MNIST/raw/t10k-images-idx3-ubyte.gz\n"
          ]
        },
        {
          "output_type": "stream",
          "name": "stderr",
          "text": [
            "100%|██████████| 1648877/1648877 [00:00<00:00, 43205148.94it/s]\n"
          ]
        },
        {
          "output_type": "stream",
          "name": "stdout",
          "text": [
            "Extracting data/MNIST/raw/t10k-images-idx3-ubyte.gz to data/MNIST/raw\n",
            "\n",
            "Downloading http://yann.lecun.com/exdb/mnist/t10k-labels-idx1-ubyte.gz\n",
            "Downloading http://yann.lecun.com/exdb/mnist/t10k-labels-idx1-ubyte.gz to data/MNIST/raw/t10k-labels-idx1-ubyte.gz\n"
          ]
        },
        {
          "output_type": "stream",
          "name": "stderr",
          "text": [
            "100%|██████████| 4542/4542 [00:00<00:00, 14432218.76it/s]\n"
          ]
        },
        {
          "output_type": "stream",
          "name": "stdout",
          "text": [
            "Extracting data/MNIST/raw/t10k-labels-idx1-ubyte.gz to data/MNIST/raw\n",
            "\n"
          ]
        }
      ]
    },
    {
      "cell_type": "code",
      "source": [
        "# split train images to train and validate sets\n",
        "data_size=len(dataset)\n",
        "train_size=round(data_size*0.8)\n",
        "val_size=data_size-train_size\n",
        "train_ds,val_ds=random_split(dataset,[train_size,val_size])"
      ],
      "metadata": {
        "id": "fYjRuMjndoK2"
      },
      "execution_count": null,
      "outputs": []
    },
    {
      "cell_type": "code",
      "source": [
        "# define batch size and dataloaders\n",
        "batch_size=128\n",
        "train_loader=DataLoader(train_ds,batch_size,shuffle=True)\n",
        "val_loader=DataLoader(val_ds,batch_size*2)\n",
        "test_loader=DataLoader(test_ds,batch_size*2)"
      ],
      "metadata": {
        "id": "Ca0EFq9lepMb"
      },
      "execution_count": null,
      "outputs": []
    },
    {
      "cell_type": "code",
      "source": [
        "# create model\n",
        "class MnistModel(nn.Module):\n",
        "  def __init__(self,in_features,out_classes):\n",
        "    super().__init__()\n",
        "    self.linear=nn.Linear(in_features,out_classes)\n",
        "\n",
        "  def forward(self,X:torch.tensor)-> torch.tensor:\n",
        "    X=X.reshape(-1,self.linear.in_features)\n",
        "    Y_linear=self.linear(X)\n",
        "    return Y_linear\n",
        "\n",
        "  def predict(self,X:torch.tensor)->torch.tensor:\n",
        "    Y_linear=self(X)\n",
        "    probs=F.softmax(Y_linear.detach(),dim=1)\n",
        "    _, Y_hat=torch.max(probs,dim=1)\n",
        "    return Y_hat\n",
        "\n",
        "  def cost_func(self,batch:list)->torch.tensor:\n",
        "    images,labels=batch\n",
        "    Y_linear=self(images)\n",
        "    cost=F.cross_entropy(Y_linear,labels)\n",
        "    return cost\n",
        "\n",
        "  def evaluate(self,batch:list)->dict:\n",
        "    images,labels=batch\n",
        "    Y_hat=self.predict(images)\n",
        "    acc=torch.sum(Y_hat==labels).item()/len(Y_hat)\n",
        "    Y_linear=self(images)\n",
        "    cost=F.cross_entropy(Y_linear.detach(),labels).item()\n",
        "    res={\n",
        "        'cost':cost,\n",
        "        'accuracy':acc\n",
        "    }\n",
        "    return res"
      ],
      "metadata": {
        "id": "UtNM4Le2fGc5"
      },
      "execution_count": null,
      "outputs": []
    },
    {
      "cell_type": "code",
      "source": [
        "in_features=28*28\n",
        "out_classes=10\n",
        "model=MnistModel(in_features,out_classes)"
      ],
      "metadata": {
        "id": "STKXUfTLiIZB"
      },
      "execution_count": null,
      "outputs": []
    },
    {
      "cell_type": "code",
      "source": [
        "# data optimizer\n",
        "lr=1e-5\n",
        "optimizer=torch.optim.SGD(model.parameters(),lr)"
      ],
      "metadata": {
        "id": "h4fHM6v9iVpi"
      },
      "execution_count": null,
      "outputs": []
    },
    {
      "cell_type": "code",
      "source": [
        "# train model\n",
        "def evaluateEpoch(batch_evals:list, decimals=2) -> dict:\n",
        "    \"\"\"Get cost & accuracy of an epoch prediction\n",
        "\n",
        "    Args:\n",
        "        batch_evals (list): list of batch evaluation\n",
        "        decimals (int, optional): decimals to round values\n",
        "\n",
        "    Returns:\n",
        "        dict: containing 2 keys: cost & accuracy\n",
        "    \"\"\"\n",
        "    batch_costs = [x['cost'] for x in batch_evals]\n",
        "    batch_accs = [x['accuracy'] for x in batch_evals]\n",
        "    cost = sum(batch_costs)/len(batch_costs)\n",
        "    acc = sum(batch_accs)/len(batch_accs)\n",
        "    res = {\n",
        "        'cost': round(cost, decimals),\n",
        "        'accuracy': round(acc, decimals)\n",
        "    }\n",
        "    return res"
      ],
      "metadata": {
        "id": "8xYfENmBikcq"
      },
      "execution_count": null,
      "outputs": []
    },
    {
      "cell_type": "code",
      "source": [
        "def fit(epochs:int, model:MnistModel, optimizer:torch.optim,\n",
        "        train_loader:DataLoader, val_loader:DataLoader) -> list:\n",
        "    \"\"\"Train model\n",
        "\n",
        "    Args:\n",
        "        epochs (int): number of iterations\n",
        "        model (MnistModel): model to train\n",
        "        optimizer (torch.optim): function to optimize model parameters\n",
        "        train_loader (DataLoader): data loader for training phase\n",
        "        val_loader (DataLoader): data loader for validation phase\n",
        "\n",
        "    Returns:\n",
        "        list: evaluation results of epochs\n",
        "    \"\"\"\n",
        "    logs = list()\n",
        "    for i in range(epochs):\n",
        "        # training phase\n",
        "        for batch in train_loader:\n",
        "            cost = model.cost_func(batch)  # compute cost\n",
        "            cost.backward()  # compute gradients\n",
        "            optimizer.step()  # adjust parameters\n",
        "            optimizer.zero_grad()  # reset gradients to zero\n",
        "\n",
        "        # validation phase\n",
        "        batch_evals = [model.evaluate(batch) for batch in val_loader]\n",
        "        res = evaluateEpoch(batch_evals)\n",
        "        logs.append(res)\n",
        "        print(\"epoch {}: validation cost = {}, validation accuracy = {}\".format(\n",
        "              i+1, res['cost'], res['accuracy']))\n",
        "    return logs"
      ],
      "metadata": {
        "id": "kq4e4bJJi3T1"
      },
      "execution_count": null,
      "outputs": []
    },
    {
      "cell_type": "code",
      "source": [
        "epochs = 10\n",
        "logs = fit(epochs, model, optimizer, train_loader, val_loader)"
      ],
      "metadata": {
        "colab": {
          "base_uri": "https://localhost:8080/"
        },
        "id": "gZYBWkxxi6rz",
        "outputId": "a2da90e7-f107-44b6-8bdd-fab8a5b7a838"
      },
      "execution_count": null,
      "outputs": [
        {
          "output_type": "stream",
          "name": "stdout",
          "text": [
            "epoch 1: validation cost = 2.31, validation accuracy = 0.12\n",
            "epoch 2: validation cost = 2.3, validation accuracy = 0.12\n",
            "epoch 3: validation cost = 2.3, validation accuracy = 0.12\n",
            "epoch 4: validation cost = 2.29, validation accuracy = 0.13\n",
            "epoch 5: validation cost = 2.29, validation accuracy = 0.13\n",
            "epoch 6: validation cost = 2.29, validation accuracy = 0.13\n",
            "epoch 7: validation cost = 2.28, validation accuracy = 0.14\n",
            "epoch 8: validation cost = 2.28, validation accuracy = 0.14\n",
            "epoch 9: validation cost = 2.27, validation accuracy = 0.14\n",
            "epoch 10: validation cost = 2.27, validation accuracy = 0.14\n"
          ]
        }
      ]
    },
    {
      "cell_type": "code",
      "source": [
        "# evaluations on validation set\n",
        "accuracies=[log['accuracy'] for log in logs]\n",
        "plt.plot(accuracies,'-x')\n",
        "plt.xlabel('epoch')\n",
        "plt.ylabel('accuracy')\n",
        "plt.xticks(range(epochs))\n",
        "plt.show();"
      ],
      "metadata": {
        "colab": {
          "base_uri": "https://localhost:8080/",
          "height": 449
        },
        "id": "pY0_ghi6i-CQ",
        "outputId": "420a80b9-edc6-4de6-a9cf-4b15200cc7e5"
      },
      "execution_count": null,
      "outputs": [
        {
          "output_type": "display_data",
          "data": {
            "text/plain": [
              "<Figure size 640x480 with 1 Axes>"
            ],
            "image/png": "[encoded data removed]"
          },
          "metadata": {}
        }
      ]
    },
    {
      "cell_type": "code",
      "source": [
        "costs = [log['cost'] for log in logs]\n",
        "plt.plot(costs, '-x')\n",
        "plt.xlabel('epoch')\n",
        "plt.ylabel('cost')\n",
        "plt.xticks(range(epochs))\n",
        "plt.show();"
      ],
      "metadata": {
        "colab": {
          "base_uri": "https://localhost:8080/",
          "height": 449
        },
        "id": "_Chn7xIak10B",
        "outputId": "e34974a8-1d43-46c5-ef97-3d2628669bbf"
      },
      "execution_count": null,
      "outputs": [
        {
          "output_type": "display_data",
          "data": {
            "text/plain": [
              "<Figure size 640x480 with 1 Axes>"
            ],
            "image/png": "[encoded data removed]"
          },
          "metadata": {}
        }
      ]
    },
    {
      "cell_type": "code",
      "source": [
        "# predict on test set\n",
        "img, label=test_ds[10]\n",
        "plt.imshow(img[0],cmap='gray');"
      ],
      "metadata": {
        "colab": {
          "base_uri": "https://localhost:8080/",
          "height": 430
        },
        "id": "6DeWGbfJk6Kd",
        "outputId": "6891c17e-bebd-4470-b779-5049050e3eb9"
      },
      "execution_count": null,
      "outputs": [
        {
          "output_type": "display_data",
          "data": {
            "text/plain": [
              "<Figure size 640x480 with 1 Axes>"
            ],
            "image/png": "[encoded data removed]"
          },
          "metadata": {}
        }
      ]
    },
    {
      "cell_type": "code",
      "source": [
        "y_hat = model.predict(img)\n",
        "print('Label: {}, Predicted: {}'.format(label, y_hat.item()))"
      ],
      "metadata": {
        "colab": {
          "base_uri": "https://localhost:8080/"
        },
        "id": "kv51_HpJlJfH",
        "outputId": "ff87d13b-cb01-40f4-b882-9fe89d1649ac"
      },
      "execution_count": null,
      "outputs": [
        {
          "output_type": "stream",
          "name": "stdout",
          "text": [
            "Label: 3, Predicted: 3\n"
          ]
        }
      ]
    },
    {
      "cell_type": "code",
      "source": [
        "type(img), type(y_hat)"
      ],
      "metadata": {
        "colab": {
          "base_uri": "https://localhost:8080/"
        },
        "id": "1duUVfHflR8h",
        "outputId": "c821e650-53dd-48da-abc4-2f51211a6459"
      },
      "execution_count": null,
      "outputs": [
        {
          "output_type": "execute_result",
          "data": {
            "text/plain": [
              "(torch.Tensor, torch.Tensor)"
            ]
          },
          "metadata": {},
          "execution_count": 24
        }
      ]
    },
    {
      "cell_type": "code",
      "source": [
        "# evaluation on test set\n",
        "batch_evals=[model.evaluate(batch) for batch in test_loader]\n",
        "res=evaluateEpoch(batch_evals)\n",
        "print('test cost = {}, test accuracy = {}'.format(res['cost'], res['accuracy']))\n"
      ],
      "metadata": {
        "colab": {
          "base_uri": "https://localhost:8080/"
        },
        "id": "_3aJJvW2lUlS",
        "outputId": "2cb8716e-7544-4c1a-d4d4-56243f49bcf5"
      },
      "execution_count": null,
      "outputs": [
        {
          "output_type": "stream",
          "name": "stdout",
          "text": [
            "test cost = 2.27, test accuracy = 0.14\n"
          ]
        }
      ]
    },
    {
      "cell_type": "code",
      "source": [
        "# saving model\n",
        "filename = 'mnist-logistic.pth'\n",
        "torch.save(model.state_dict(), filename)"
      ],
      "metadata": {
        "id": "nBo182b_lv3F"
      },
      "execution_count": null,
      "outputs": []
    },
    {
      "cell_type": "code",
      "source": [
        "# initialize a new model\n",
        "model2 = MnistModel(in_features, out_classes)\n",
        "model2.state_dict()\n"
      ],
      "metadata": {
        "colab": {
          "base_uri": "https://localhost:8080/"
        },
        "id": "JZWXPooxl5jU",
        "outputId": "b464959b-aeae-416b-d135-062347322c97"
      },
      "execution_count": null,
      "outputs": [
        {
          "output_type": "execute_result",
          "data": {
            "text/plain": [
              "OrderedDict([('linear.weight',\n",
              "              tensor([[ 1.3880e-02,  1.4084e-02,  3.1373e-02,  ...,  6.0395e-03,\n",
              "                       -8.9049e-05, -1.5715e-02],\n",
              "                      [ 4.6404e-03, -3.1108e-02,  3.2672e-02,  ..., -1.7959e-02,\n",
              "                       -1.5832e-02, -2.0934e-03],\n",
              "                      [ 3.3073e-03, -3.5647e-02, -2.7683e-02,  ...,  1.5729e-02,\n",
              "                        6.7648e-03,  2.1827e-03],\n",
              "                      ...,\n",
              "                      [-2.9525e-02, -2.8071e-02,  1.4871e-02,  ...,  2.5146e-02,\n",
              "                        1.7142e-02,  9.5309e-03],\n",
              "                      [ 2.1961e-02, -1.7935e-02, -8.0045e-03,  ..., -1.3520e-02,\n",
              "                       -2.9138e-02,  3.5492e-02],\n",
              "                      [-3.1078e-02,  5.4714e-03, -1.1288e-02,  ..., -8.1475e-03,\n",
              "                       -2.8018e-02,  7.9268e-03]])),\n",
              "             ('linear.bias',\n",
              "              tensor([ 0.0347, -0.0257, -0.0215,  0.0177,  0.0342, -0.0167,  0.0059,  0.0222,\n",
              "                      -0.0010,  0.0302]))])"
            ]
          },
          "metadata": {},
          "execution_count": 27
        }
      ]
    },
    {
      "cell_type": "code",
      "source": [
        "# load model from file\n",
        "model2.load_state_dict(torch.load(filename))\n",
        "model2.state_dict()"
      ],
      "metadata": {
        "colab": {
          "base_uri": "https://localhost:8080/"
        },
        "id": "b6sNXSyNl7nw",
        "outputId": "09faa60e-9915-4cb7-bc35-f9e762cc0751"
      },
      "execution_count": null,
      "outputs": [
        {
          "output_type": "execute_result",
          "data": {
            "text/plain": [
              "OrderedDict([('linear.weight',\n",
              "              tensor([[-0.0331, -0.0170, -0.0247,  ..., -0.0299,  0.0114,  0.0325],\n",
              "                      [ 0.0166, -0.0121,  0.0356,  ...,  0.0029,  0.0224,  0.0126],\n",
              "                      [ 0.0316,  0.0045, -0.0328,  ..., -0.0162,  0.0231,  0.0137],\n",
              "                      ...,\n",
              "                      [ 0.0241,  0.0015,  0.0052,  ..., -0.0106, -0.0239,  0.0141],\n",
              "                      [ 0.0137,  0.0334,  0.0237,  ...,  0.0005, -0.0273,  0.0047],\n",
              "                      [-0.0320, -0.0078, -0.0093,  ...,  0.0074, -0.0074,  0.0249]])),\n",
              "             ('linear.bias',\n",
              "              tensor([ 0.0327, -0.0114,  0.0342,  0.0286,  0.0008,  0.0173, -0.0232,  0.0255,\n",
              "                       0.0173, -0.0347]))])"
            ]
          },
          "metadata": {},
          "execution_count": 28
        }
      ]
    },
    {
      "cell_type": "code",
      "source": [],
      "metadata": {
        "id": "-wJjpA27l-LS"
      },
      "execution_count": null,
      "outputs": []
    }
  ]
}