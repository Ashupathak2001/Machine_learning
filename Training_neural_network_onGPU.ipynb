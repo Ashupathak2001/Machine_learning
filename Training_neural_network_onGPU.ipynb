{
  "nbformat": 4,
  "nbformat_minor": 0,
  "metadata": {
    "colab": {
      "provenance": [],
      "gpuType": "T4",
      "authorship_tag": "ABX9TyONgNa6iLroMsHJpNzeCmF3",
      "include_colab_link": true
    },
    "kernelspec": {
      "name": "python3",
      "display_name": "Python 3"
    },
    "language_info": {
      "name": "python"
    },
    "accelerator": "GPU"
  },
  "cells": [
    {
      "cell_type": "markdown",
      "metadata": {
        "id": "view-in-github",
        "colab_type": "text"
      },
      "source": [
        "<a href=\"https://colab.research.google.com/github/Ashupathak2001/Machine_learning/blob/main/Training_neural_network_onGPU.ipynb\" target=\"_parent\"><img src=\"https://colab.research.google.com/assets/colab-badge.svg\" alt=\"Open In Colab\"/></a>"
      ]
    },
    {
      "cell_type": "markdown",
      "source": [
        "**Training Deep neural network on GPU**"
      ],
      "metadata": {
        "id": "lSbfxr6KRpj_"
      }
    },
    {
      "cell_type": "code",
      "execution_count": null,
      "metadata": {
        "id": "b1ZJwJxLRlW2"
      },
      "outputs": [],
      "source": [
        "# importing libraries\n",
        "from torchvision.datasets import MNIST\n",
        "from torchvision.transforms import ToTensor\n",
        "import matplotlib.pyplot as plt\n",
        "from torch.utils.data import random_split\n",
        "from torch.utils.data.dataloader import DataLoader\n",
        "from torchvision.utils import make_grid\n",
        "import torch.nn as nn\n",
        "import torch.nn.functional as F\n",
        "import torch"
      ]
    },
    {
      "cell_type": "code",
      "source": [
        "# Prepare data\n",
        "# download data\n",
        "dataset=MNIST(root=\"data/\",train=True,transform=ToTensor(),download=True)\n",
        "test_ds=MNIST(root=\"data/\",train=True,transform=ToTensor())"
      ],
      "metadata": {
        "colab": {
          "base_uri": "https://localhost:8080/"
        },
        "id": "HT1EWygySzYT",
        "outputId": "87f78771-7198-4708-e254-ac6458bb699d"
      },
      "execution_count": null,
      "outputs": [
        {
          "output_type": "stream",
          "name": "stdout",
          "text": [
            "Downloading http://yann.lecun.com/exdb/mnist/train-images-idx3-ubyte.gz\n",
            "Downloading http://yann.lecun.com/exdb/mnist/train-images-idx3-ubyte.gz to data/MNIST/raw/train-images-idx3-ubyte.gz\n"
          ]
        },
        {
          "output_type": "stream",
          "name": "stderr",
          "text": [
            "100%|██████████| 9912422/9912422 [00:00<00:00, 143046858.85it/s]"
          ]
        },
        {
          "output_type": "stream",
          "name": "stdout",
          "text": [
            "Extracting data/MNIST/raw/train-images-idx3-ubyte.gz to data/MNIST/raw\n"
          ]
        },
        {
          "output_type": "stream",
          "name": "stderr",
          "text": [
            "\n"
          ]
        },
        {
          "output_type": "stream",
          "name": "stdout",
          "text": [
            "\n",
            "Downloading http://yann.lecun.com/exdb/mnist/train-labels-idx1-ubyte.gz\n",
            "Downloading http://yann.lecun.com/exdb/mnist/train-labels-idx1-ubyte.gz to data/MNIST/raw/train-labels-idx1-ubyte.gz\n"
          ]
        },
        {
          "output_type": "stream",
          "name": "stderr",
          "text": [
            "100%|██████████| 28881/28881 [00:00<00:00, 41399758.65it/s]\n"
          ]
        },
        {
          "output_type": "stream",
          "name": "stdout",
          "text": [
            "Extracting data/MNIST/raw/train-labels-idx1-ubyte.gz to data/MNIST/raw\n",
            "\n",
            "Downloading http://yann.lecun.com/exdb/mnist/t10k-images-idx3-ubyte.gz\n",
            "Downloading http://yann.lecun.com/exdb/mnist/t10k-images-idx3-ubyte.gz to data/MNIST/raw/t10k-images-idx3-ubyte.gz\n"
          ]
        },
        {
          "output_type": "stream",
          "name": "stderr",
          "text": [
            "100%|██████████| 1648877/1648877 [00:00<00:00, 38880844.85it/s]\n"
          ]
        },
        {
          "output_type": "stream",
          "name": "stdout",
          "text": [
            "Extracting data/MNIST/raw/t10k-images-idx3-ubyte.gz to data/MNIST/raw\n",
            "\n",
            "Downloading http://yann.lecun.com/exdb/mnist/t10k-labels-idx1-ubyte.gz\n",
            "Downloading http://yann.lecun.com/exdb/mnist/t10k-labels-idx1-ubyte.gz to data/MNIST/raw/t10k-labels-idx1-ubyte.gz\n"
          ]
        },
        {
          "output_type": "stream",
          "name": "stderr",
          "text": [
            "100%|██████████| 4542/4542 [00:00<00:00, 20865858.45it/s]\n"
          ]
        },
        {
          "output_type": "stream",
          "name": "stdout",
          "text": [
            "Extracting data/MNIST/raw/t10k-labels-idx1-ubyte.gz to data/MNIST/raw\n",
            "\n"
          ]
        }
      ]
    },
    {
      "cell_type": "code",
      "source": [
        "# explore data\n",
        "img,labels=dataset[0]\n",
        "print(\"image shape=%s\" % list(img.shape))\n",
        "print(\"label=%s\" % labels)\n",
        "plt.imshow(img[0], cmap=\"gray\");"
      ],
      "metadata": {
        "colab": {
          "base_uri": "https://localhost:8080/",
          "height": 465
        },
        "id": "THUCGcouTle_",
        "outputId": "af70d986-ba88-4c68-a5d0-b4a0ce78284c"
      },
      "execution_count": null,
      "outputs": [
        {
          "output_type": "stream",
          "name": "stdout",
          "text": [
            "image shape=[1, 28, 28]\n",
            "label=5\n"
          ]
        },
        {
          "output_type": "display_data",
          "data": {
            "text/plain": [
              "<Figure size 640x480 with 1 Axes>"
            ],
            "image/png": "[encoded data removed]"
          },
          "metadata": {}
        }
      ]
    },
    {
      "cell_type": "code",
      "source": [
        "print(\"dataset size=%s\" % len(dataset))\n",
        "print(\"testset size=%s\" % len(test_ds))"
      ],
      "metadata": {
        "colab": {
          "base_uri": "https://localhost:8080/"
        },
        "id": "1KVpBvzfUOLe",
        "outputId": "f511303d-4de3-464a-f7ec-d7e0476f6f84"
      },
      "execution_count": null,
      "outputs": [
        {
          "output_type": "stream",
          "name": "stdout",
          "text": [
            "dataset size=60000\n",
            "testset size=60000\n"
          ]
        }
      ]
    },
    {
      "cell_type": "code",
      "source": [
        "# split dataset to training & validation sets\n",
        "val_size=15000\n",
        "train_size=len(dataset)-val_size\n",
        "train_ds,val_ds=random_split(dataset,[train_size,val_size])"
      ],
      "metadata": {
        "id": "XWeS-9HEUkFQ"
      },
      "execution_count": null,
      "outputs": []
    },
    {
      "cell_type": "code",
      "source": [
        "# create data loaders\n",
        "batch_size=128\n",
        "train_loader=DataLoader(train_ds,batch_size,shuffle=True,num_workers=4,pin_memory=True)\n",
        "val_loader=DataLoader(val_ds,batch_size*2,num_workers=4,pin_memory=True)\n",
        "test_loader=DataLoader(test_ds,batch_size*2,num_workers=4,pin_memory=True)"
      ],
      "metadata": {
        "colab": {
          "base_uri": "https://localhost:8080/"
        },
        "id": "uIdIsCAFVGTi",
        "outputId": "f38a8c25-9ba7-4ce2-d0de-549d571f10aa"
      },
      "execution_count": null,
      "outputs": [
        {
          "output_type": "stream",
          "name": "stderr",
          "text": [
            "/usr/local/lib/python3.10/dist-packages/torch/utils/data/dataloader.py:560: UserWarning: This DataLoader will create 4 worker processes in total. Our suggested max number of worker in current system is 2, which is smaller than what this DataLoader is going to create. Please be aware that excessive worker creation might get DataLoader running slow or even freeze, lower the worker number to avoid potential slowness/freeze if necessary.\n",
            "  warnings.warn(_create_warning_msg(\n"
          ]
        }
      ]
    },
    {
      "cell_type": "code",
      "source": [
        "# define neural network\n",
        "class MnistModel(nn.Module):\n",
        "  def __init__ (self,in_features:int, hidden_size:int, out_classes:int):\n",
        "      super().__init__()\n",
        "      self.linear1=nn.Linear(in_features, hidden_size)\n",
        "      self.linear2=nn.Linear(hidden_size, out_classes)\n",
        "\n",
        "  def forward(self,X:torch.tensor)->torch.tensor:\n",
        "    # flatten images\n",
        "    X=X.reshape(-1,self.linear1.in_features)\n",
        "    # compute activation units\n",
        "    Z=self.linear1(X)\n",
        "    A=F.relu(Z)\n",
        "    # compute probabilities\n",
        "    Y_linear=self.linear2(A)\n",
        "    return Y_linear\n",
        "\n",
        "  def predict(self,X:torch.tensor)->torch.tensor:\n",
        "    Y_linear=self(X)\n",
        "    probs=F.softmax(Y_linear.detach(),dim=1)\n",
        "    _, Y_hat=torch.max(probs, dim=1)\n",
        "    return Y_hat\n",
        "\n",
        "  def cost_func(self,batch:list)->torch.tensor:\n",
        "    images,labels=batch\n",
        "    Y_linear=self(images)\n",
        "    cost=F.cross_entropy(Y_linear, labels)\n",
        "    return cost\n",
        "\n",
        "  def evaluate(self,batch:list)-> dict:\n",
        "    images, labels = batch\n",
        "    Y_hat = self.predict(images)\n",
        "    acc = torch.sum(Y_hat == labels).item()/len(Y_hat)\n",
        "    Y_linear = self(images)\n",
        "    cost = F.cross_entropy(Y_linear.detach(), labels).item()\n",
        "    res = {\n",
        "        \"cost\": cost,\n",
        "        \"accuracy\": acc\n",
        "    }\n",
        "    return res"
      ],
      "metadata": {
        "id": "8sb3aqqTWD1Q"
      },
      "execution_count": null,
      "outputs": []
    },
    {
      "cell_type": "code",
      "source": [
        "input_features=1*28*28\n",
        "hidden_size=32\n",
        "output_classes=10"
      ],
      "metadata": {
        "id": "sNeitaQ5ZfQJ"
      },
      "execution_count": null,
      "outputs": []
    },
    {
      "cell_type": "code",
      "source": [
        "model=MnistModel(input_features,hidden_size,output_classes)"
      ],
      "metadata": {
        "id": "57Q2DmTZZplt"
      },
      "execution_count": null,
      "outputs": []
    },
    {
      "cell_type": "code",
      "source": [
        "# Using GPU\n",
        "def getDefaultDevice():\n",
        "    \"\"\"Pick GPU if available, else CPU\n",
        "    \"\"\"\n",
        "    if torch.cuda.is_available():\n",
        "        return torch.device(\"cuda\")\n",
        "    return torch.device(\"cpu\")"
      ],
      "metadata": {
        "id": "neTBG2hjZyNS"
      },
      "execution_count": null,
      "outputs": []
    },
    {
      "cell_type": "code",
      "source": [
        "def toDevice(data,device:torch.device):\n",
        "  if isinstance(data,(list,tuple)):\n",
        "    return [toDevice(x,device) for x in data]\n",
        "  return data.to(device, non_blocking=True)"
      ],
      "metadata": {
        "id": "g0M0A_xUaZO0"
      },
      "execution_count": null,
      "outputs": []
    },
    {
      "cell_type": "code",
      "source": [
        "class DeviceDataLoader():\n",
        "  def __init__(self,dataloader:DataLoader,device:torch.device):\n",
        "    #this class is to wrap data loader and move batches of data to selected device\n",
        "    self.dataloader=dataloader\n",
        "    self.device=device\n",
        "\n",
        "  def __iter__(self):\n",
        "    # this method is to retrieve batches of data\n",
        "    for batch in self.dataloader:\n",
        "      yield toDevice(batch, self.device)\n",
        "\n",
        "  def __len__(self):\n",
        "    # this method is to get the number of batches\n",
        "    return len(self.dataloader)"
      ],
      "metadata": {
        "id": "qwKsrgIEa6mK"
      },
      "execution_count": null,
      "outputs": []
    },
    {
      "cell_type": "code",
      "source": [
        "device=getDefaultDevice()\n",
        "toDevice(model, device)\n",
        "train_loader=DeviceDataLoader(train_loader, device)\n",
        "val_loader=DeviceDataLoader(val_loader, device)\n",
        "print(\"device used : %s\" % device.type)"
      ],
      "metadata": {
        "colab": {
          "base_uri": "https://localhost:8080/"
        },
        "id": "ZPI4xelTcEc_",
        "outputId": "0bcd7e42-6f62-4f9d-9124-2c18dada5312"
      },
      "execution_count": null,
      "outputs": [
        {
          "output_type": "stream",
          "name": "stdout",
          "text": [
            "device used : cuda\n"
          ]
        }
      ]
    },
    {
      "cell_type": "code",
      "source": [
        "# Train Model\n",
        "def evaluateEpoch(batch_evals: list, decimals=2)-> dict:\n",
        "  \"\"\"Get cost & accuracy of predictions of an epoch\n",
        "\n",
        "    Args:\n",
        "        batch_evals (list): list of batch evaluations\n",
        "        decimals (int, optional): decimals to round values\n",
        "\n",
        "    Returns:\n",
        "        dict: containing 2 keys \"cost\" & \"accuracy\"\n",
        "    \"\"\"\n",
        "  batch_costs=[x[\"cost\"] for x in batch_evals]\n",
        "  batch_accs=[x[\"accuracy\"] for x in batch_evals]\n",
        "  cost= sum(batch_costs)/len(batch_costs)\n",
        "  acc=sum(batch_accs)/len(batch_accs)\n",
        "  res={\n",
        "      \"cost\":round(cost, decimals),\n",
        "      \"accuracy\":round(acc, decimals)\n",
        "  }\n",
        "  return res"
      ],
      "metadata": {
        "id": "fw2w9q8Qcnfr"
      },
      "execution_count": null,
      "outputs": []
    },
    {
      "cell_type": "code",
      "source": [
        "def fit(epochs:int,model:MnistModel,optimizer:torch.optim,train_loader:DataLoader,val_loader:DataLoader)->list:\n",
        "  \"\"\"Train model\n",
        "\n",
        "    Args:\n",
        "        epochs (int): number of iterations\n",
        "        model (MnistModel): model to train\n",
        "        optimizer (torch.optim): function to optimize model parameters\n",
        "        train_loader (DataLoader): data loader for training phase\n",
        "        val_loader (DataLoader): data loader for validation phase\n",
        "\n",
        "    Returns:\n",
        "        list: evaluation results of epochs\n",
        "    \"\"\"\n",
        "  logs=list()\n",
        "  for i in range(epochs):\n",
        "    # training phase\n",
        "    for batch in train_loader:\n",
        "      cost=model.cost_func(batch)\n",
        "      cost.backward()\n",
        "      optimizer.step()\n",
        "      optimizer.zero_grad()\n",
        "\n",
        "    # validation phase\n",
        "    batch_evals=[model.evaluate(batch) for batch in val_loader]\n",
        "    res = evaluateEpoch(batch_evals)\n",
        "    logs.append(res)\n",
        "    print(\"epoch %s: validation cost = %s, validation accuracy = %s\" %\n",
        "          (i+1, res[\"cost\"], res[\"accuracy\"]))\n",
        "  return logs"
      ],
      "metadata": {
        "id": "DRqCiQXyeG2g"
      },
      "execution_count": null,
      "outputs": []
    },
    {
      "cell_type": "code",
      "source": [
        "epochs=10\n",
        "lr=1e-1\n",
        "optimizer=torch.optim.SGD(model.parameters(),lr)\n",
        "logs=fit(epochs,model,optimizer,train_loader,val_loader)"
      ],
      "metadata": {
        "colab": {
          "base_uri": "https://localhost:8080/"
        },
        "id": "uuKHOapkfew7",
        "outputId": "9ac14b5b-5ffe-4a10-8b4b-bc3a6878000a"
      },
      "execution_count": null,
      "outputs": [
        {
          "output_type": "stream",
          "name": "stdout",
          "text": [
            "epoch 1: validation cost = 0.35, validation accuracy = 0.9\n",
            "epoch 2: validation cost = 0.29, validation accuracy = 0.92\n",
            "epoch 3: validation cost = 0.26, validation accuracy = 0.93\n",
            "epoch 4: validation cost = 0.24, validation accuracy = 0.93\n",
            "epoch 5: validation cost = 0.22, validation accuracy = 0.94\n",
            "epoch 6: validation cost = 0.2, validation accuracy = 0.94\n",
            "epoch 7: validation cost = 0.18, validation accuracy = 0.95\n",
            "epoch 8: validation cost = 0.18, validation accuracy = 0.95\n",
            "epoch 9: validation cost = 0.17, validation accuracy = 0.95\n",
            "epoch 10: validation cost = 0.17, validation accuracy = 0.95\n"
          ]
        }
      ]
    },
    {
      "cell_type": "code",
      "source": [
        "# evaluation on validation set\n",
        "accuracies = [log['accuracy'] for log in logs]\n",
        "plt.plot(accuracies, '-x')\n",
        "plt.xlabel('epoch')\n",
        "plt.ylabel('accuracy')\n",
        "plt.xticks(range(epochs))\n",
        "plt.show();"
      ],
      "metadata": {
        "colab": {
          "base_uri": "https://localhost:8080/",
          "height": 449
        },
        "id": "iyUCHnHRf09x",
        "outputId": "c4cb8364-3afe-4fed-8a01-cdde12b5f46e"
      },
      "execution_count": null,
      "outputs": [
        {
          "output_type": "display_data",
          "data": {
            "text/plain": [
              "<Figure size 640x480 with 1 Axes>"
            ],
            "image/png": "[encoded data removed]"
          },
          "metadata": {}
        }
      ]
    },
    {
      "cell_type": "code",
      "source": [
        "costs = [log['cost'] for log in logs]\n",
        "plt.plot(costs, '-x')\n",
        "plt.xlabel('epoch')\n",
        "plt.ylabel('cost')\n",
        "plt.xticks(range(epochs))\n",
        "plt.show();"
      ],
      "metadata": {
        "colab": {
          "base_uri": "https://localhost:8080/",
          "height": 449
        },
        "id": "o_b9v9GtgT60",
        "outputId": "c45aa6da-9d48-4a26-bb1b-17815fe4f3c6"
      },
      "execution_count": null,
      "outputs": [
        {
          "output_type": "display_data",
          "data": {
            "text/plain": [
              "<Figure size 640x480 with 1 Axes>"
            ],
            "image/png": "[encoded data removed]"
          },
          "metadata": {}
        }
      ]
    },
    {
      "cell_type": "code",
      "source": [
        "# predict on test set\n",
        "img, labels =test_ds[100]\n",
        "plt.imshow(img[0],cmap=\"gray\")"
      ],
      "metadata": {
        "colab": {
          "base_uri": "https://localhost:8080/",
          "height": 447
        },
        "id": "Ul_byu9hgXs_",
        "outputId": "f1926058-f8d6-49c1-cae2-cd4b004c0cfb"
      },
      "execution_count": null,
      "outputs": [
        {
          "output_type": "execute_result",
          "data": {
            "text/plain": [
              "<matplotlib.image.AxesImage at 0x7d08bb5a27d0>"
            ]
          },
          "metadata": {},
          "execution_count": 31
        },
        {
          "output_type": "display_data",
          "data": {
            "text/plain": [
              "<Figure size 640x480 with 1 Axes>"
            ],
            "image/png": "[encoded data removed]"
          },
          "metadata": {}
        }
      ]
    },
    {
      "cell_type": "code",
      "source": [
        "print(\"img.device = %s\" % img.device)\n",
        "img = toDevice(img, device)\n",
        "print(\"img.device = %s\" % img.device)\n",
        "y_hat = model.predict(img)\n",
        "print('Label: {}, Predicted: {}'.format(labels, y_hat.item()))"
      ],
      "metadata": {
        "colab": {
          "base_uri": "https://localhost:8080/"
        },
        "id": "DZgRKJlGgrVW",
        "outputId": "b2dc5e89-8388-4273-cf79-49b998cd08f1"
      },
      "execution_count": null,
      "outputs": [
        {
          "output_type": "stream",
          "name": "stdout",
          "text": [
            "img.device = cpu\n",
            "img.device = cuda:0\n",
            "Label: 5, Predicted: 5\n"
          ]
        }
      ]
    },
    {
      "cell_type": "code",
      "source": [
        "# Evaluation on test set\n",
        "test_loader = DeviceDataLoader(test_loader, device)\n",
        "batch_evals = [model.evaluate(batch) for batch in test_loader]\n",
        "res = evaluateEpoch(batch_evals)\n",
        "print('test cost = {}, test accuracy = {}'.format(res['cost'], res['accuracy']))"
      ],
      "metadata": {
        "colab": {
          "base_uri": "https://localhost:8080/"
        },
        "id": "x71eHtjkgwyh",
        "outputId": "8bdac960-c243-41b7-8a99-5a008f538240"
      },
      "execution_count": null,
      "outputs": [
        {
          "output_type": "stream",
          "name": "stdout",
          "text": [
            "test cost = 0.16, test accuracy = 0.95\n"
          ]
        }
      ]
    },
    {
      "cell_type": "code",
      "source": [],
      "metadata": {
        "id": "0OoGQaPUhFza"
      },
      "execution_count": null,
      "outputs": []
    }
  ]
}